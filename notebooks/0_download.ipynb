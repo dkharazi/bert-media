{
 "cells": [
  {
   "cell_type": "code",
   "execution_count": 1,
   "metadata": {},
   "outputs": [],
   "source": [
    "import pandas as pd"
   ]
  },
  {
   "cell_type": "code",
   "execution_count": 2,
   "metadata": {},
   "outputs": [],
   "source": [
    "# Define function for compressing csv files\n",
    "def compress_articles(cols, path):\n",
    "    df = pd.read_csv('{}.csv'.format(path))[cols]\n",
    "    df[cols] = df[cols].astype(str)\n",
    "    df.to_parquet('{}.gzip'.format(path), compression='gzip')\n",
    "    del df"
   ]
  },
  {
   "cell_type": "code",
   "execution_count": null,
   "metadata": {},
   "outputs": [],
   "source": [
    "# Only keep relevant columns for classifying articles\n",
    "cols = ['title', 'author', 'publication', 'content']\n",
    "\n",
    "# Gather CSV files with articles\n",
    "articles = ['./articles1', './articles2', './articles3']\n",
    "\n",
    "# Compress CSV articles\n",
    "for p in articles:\n",
    "    compress_articles(cols, p)"
   ]
  }
 ],
 "metadata": {
  "kernelspec": {
   "display_name": "Python 3",
   "language": "python",
   "name": "python3"
  },
  "language_info": {
   "codemirror_mode": {
    "name": "ipython",
    "version": 3
   },
   "file_extension": ".py",
   "mimetype": "text/x-python",
   "name": "python",
   "nbconvert_exporter": "python",
   "pygments_lexer": "ipython3",
   "version": "3.7.9"
  }
 },
 "nbformat": 4,
 "nbformat_minor": 4
}
