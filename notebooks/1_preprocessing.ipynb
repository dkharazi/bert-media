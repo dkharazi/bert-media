{
 "cells": [
  {
   "cell_type": "code",
   "execution_count": 3,
   "metadata": {},
   "outputs": [],
   "source": [
    "import pandas as pd"
   ]
  },
  {
   "cell_type": "markdown",
   "metadata": {},
   "source": [
    "### Loading Articles"
   ]
  },
  {
   "cell_type": "code",
   "execution_count": 87,
   "metadata": {},
   "outputs": [
    {
     "name": "stdout",
     "output_type": "stream",
     "text": [
      "<class 'pandas.core.frame.DataFrame'>\n",
      "RangeIndex: 142570 entries, 0 to 142569\n",
      "Data columns (total 4 columns):\n",
      " #   Column       Non-Null Count   Dtype \n",
      "---  ------       --------------   ----- \n",
      " 0   title        142570 non-null  object\n",
      " 1   author       142570 non-null  object\n",
      " 2   publication  142570 non-null  object\n",
      " 3   content      142570 non-null  object\n",
      "dtypes: object(4)\n",
      "memory usage: 4.4+ MB\n"
     ]
    }
   ],
   "source": [
    "# Load in each article\n",
    "a1 = pd.read_parquet('~/Documents/bert-news/data/articles1.gzip')\n",
    "a2 = pd.read_parquet('~/Documents/bert-news/data/articles2.gzip')\n",
    "a3 = pd.read_parquet('~/Documents/bert-news/data/articles3.gzip')\n",
    "\n",
    "# Concatenate articles together\n",
    "articles = pd.concat([a1, a2, a3], ignore_index=True)\n",
    "del a1, a2, a3\n",
    "\n",
    "# For now, including 140K articles should be enough\n",
    "articles.info()"
   ]
  },
  {
   "cell_type": "markdown",
   "metadata": {},
   "source": [
    "### Only Include Top Publications"
   ]
  },
  {
   "cell_type": "code",
   "execution_count": 88,
   "metadata": {},
   "outputs": [
    {
     "data": {
      "text/plain": [
       "Breitbart              23781\n",
       "New York Post          17493\n",
       "NPR                    11992\n",
       "CNN                    11488\n",
       "Washington Post        11114\n",
       "Reuters                10710\n",
       "Guardian                8681\n",
       "New York Times          7803\n",
       "Atlantic                7179\n",
       "Business Insider        6757\n",
       "National Review         6203\n",
       "Talking Points Memo     5214\n",
       "Vox                     4947\n",
       "Buzzfeed News           4854\n",
       "Fox News                4354\n",
       "Name: publication, dtype: int64"
      ]
     },
     "execution_count": 88,
     "metadata": {},
     "output_type": "execute_result"
    }
   ],
   "source": [
    "# Maybe, focus on top news sources\n",
    "articles['publication'].value_counts()"
   ]
  },
  {
   "cell_type": "code",
   "execution_count": 89,
   "metadata": {},
   "outputs": [
    {
     "data": {
      "text/plain": [
       "Breitbart          23781\n",
       "New York Post      17493\n",
       "NPR                11992\n",
       "CNN                11488\n",
       "Washington Post    11114\n",
       "New York Times      7803\n",
       "Name: publication, dtype: int64"
      ]
     },
     "execution_count": 89,
     "metadata": {},
     "output_type": "execute_result"
    }
   ],
   "source": [
    "# Only include Breitbart and CNN\n",
    "pubs = ['Breitbart', 'New York Post', 'NPR', 'CNN', 'Washington Post', 'New York Times']\n",
    "articles = articles[articles['publication'].isin(pubs)]\n",
    "\n",
    "# Another glimpse!\n",
    "articles['publication'].value_counts()"
   ]
  },
  {
   "cell_type": "markdown",
   "metadata": {},
   "source": [
    "### Only Include Articles with Authors"
   ]
  },
  {
   "cell_type": "code",
   "execution_count": 90,
   "metadata": {},
   "outputs": [
    {
     "data": {
      "text/plain": [
       "nan                                                   4882\n",
       "Breitbart News                                        1559\n",
       "Pam Key                                               1282\n",
       "Associated Press                                      1224\n",
       "Charlie Spiering                                       928\n",
       "                                                      ... \n",
       "Jai Bednall, News.com.au                                 1\n",
       "Miles Marshall Lewis                                     1\n",
       "Bassey Etim                                              1\n",
       "Amanda Woods, Lorena Mongelli and Linda Massarella       1\n",
       "Scott Shane and Adam Goldman                             1\n",
       "Name: author, Length: 7889, dtype: int64"
      ]
     },
     "execution_count": 90,
     "metadata": {},
     "output_type": "execute_result"
    }
   ],
   "source": [
    "# Occurrence of NULL authors\n",
    "articles['author'].value_counts()"
   ]
  },
  {
   "cell_type": "code",
   "execution_count": 91,
   "metadata": {},
   "outputs": [
    {
     "data": {
      "text/plain": [
       "Breitbart News                  1559\n",
       "Pam Key                         1282\n",
       "Associated Press                1224\n",
       "Charlie Spiering                 928\n",
       "Jerome Hudson                    806\n",
       "                                ... \n",
       "Jai Bednall, News.com.au           1\n",
       "Miles Marshall Lewis               1\n",
       "Bassey Etim                        1\n",
       "Steve Marble                       1\n",
       "Scott Shane and Adam Goldman       1\n",
       "Name: author, Length: 7888, dtype: int64"
      ]
     },
     "execution_count": 91,
     "metadata": {},
     "output_type": "execute_result"
    }
   ],
   "source": [
    "# Remove NAN authors\n",
    "articles = articles[articles['author'] != 'nan']\n",
    "\n",
    "# Another glimpse!\n",
    "articles['author'].value_counts()"
   ]
  },
  {
   "cell_type": "markdown",
   "metadata": {},
   "source": [
    "### Assign Publications to Political Party"
   ]
  },
  {
   "cell_type": "code",
   "execution_count": 94,
   "metadata": {},
   "outputs": [
    {
     "data": {
      "text/plain": [
       "right    41266\n",
       "left     37523\n",
       "Name: party, dtype: int64"
      ]
     },
     "execution_count": 94,
     "metadata": {},
     "output_type": "execute_result"
    }
   ],
   "source": [
    "# Determine party based on PEW survey\n",
    "right_pubs = ['Breitbart', 'New York Post']\n",
    "\n",
    "# Assign publication to party\n",
    "articles['party'] = 'left'\n",
    "articles.loc[articles['publication'].isin(right_pubs), 'party'] = 'right'\n",
    "\n",
    "# Another glimpse!\n",
    "articles['party'].value_counts()"
   ]
  },
  {
   "cell_type": "markdown",
   "metadata": {},
   "source": [
    "### Stratify on Publications"
   ]
  },
  {
   "cell_type": "code",
   "execution_count": 95,
   "metadata": {},
   "outputs": [
    {
     "data": {
      "text/plain": [
       "Breitbart          23781\n",
       "New York Post      17485\n",
       "NPR                11654\n",
       "Washington Post    11077\n",
       "New York Times      7767\n",
       "CNN                 7025\n",
       "Name: publication, dtype: int64"
      ]
     },
     "execution_count": 95,
     "metadata": {},
     "output_type": "execute_result"
    }
   ],
   "source": [
    "# For each publication,\n",
    "# randomly select the same number of\n",
    "# articles as the publication with the\n",
    "# fewest number of articles\n",
    "articles['publication'].value_counts()"
   ]
  },
  {
   "cell_type": "code",
   "execution_count": 96,
   "metadata": {},
   "outputs": [
    {
     "data": {
      "text/plain": [
       "New York Post      7025\n",
       "CNN                7025\n",
       "NPR                7025\n",
       "New York Times     7025\n",
       "Breitbart          7025\n",
       "Washington Post    7025\n",
       "Name: publication, dtype: int64"
      ]
     },
     "execution_count": 96,
     "metadata": {},
     "output_type": "execute_result"
    }
   ],
   "source": [
    "# Stratify articles by publication\n",
    "min_strat = articles.groupby('publication').size().min()\n",
    "articles = articles.groupby('publication').apply(lambda x: x.sample(min_strat))\n",
    "\n",
    "# Another glimpse!\n",
    "articles['publication'].value_counts()"
   ]
  },
  {
   "cell_type": "markdown",
   "metadata": {},
   "source": [
    "### Save and Serialize Data "
   ]
  },
  {
   "cell_type": "code",
   "execution_count": 97,
   "metadata": {},
   "outputs": [],
   "source": [
    "# Save preprocessed data\n",
    "articles.to_parquet('~/Downloads/proc_articles.gzip', compression='gzip')"
   ]
  }
 ],
 "metadata": {
  "kernelspec": {
   "display_name": "Python 3",
   "language": "python",
   "name": "python3"
  },
  "language_info": {
   "codemirror_mode": {
    "name": "ipython",
    "version": 3
   },
   "file_extension": ".py",
   "mimetype": "text/x-python",
   "name": "python",
   "nbconvert_exporter": "python",
   "pygments_lexer": "ipython3",
   "version": "3.7.9"
  }
 },
 "nbformat": 4,
 "nbformat_minor": 4
}
