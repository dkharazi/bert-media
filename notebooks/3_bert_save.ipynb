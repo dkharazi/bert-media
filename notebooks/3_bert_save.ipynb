{
 "cells": [
  {
   "cell_type": "code",
   "execution_count": 1,
   "metadata": {},
   "outputs": [
    {
     "name": "stderr",
     "output_type": "stream",
     "text": [
      "[nltk_data] Downloading package stopwords to /home/jovyan/nltk_data...\n",
      "[nltk_data]   Unzipping corpora/stopwords.zip.\n"
     ]
    }
   ],
   "source": [
    "# Import libraries for generic data preprocessing\n",
    "import os\n",
    "import numpy as np\n",
    "import pandas as pd\n",
    "from itertools import chain\n",
    "import matplotlib.pyplot as plt\n",
    "\n",
    "# Import libraries for preprocessing embeddings\n",
    "import nltk\n",
    "nltk.download('stopwords')\n",
    "from nltk.corpus import stopwords\n",
    "from nltk.tokenize import RegexpTokenizer\n",
    "from sentence_transformers import SentenceTransformer\n",
    "\n",
    "# Import libraries for clustering and topic classification\n",
    "import hdbscan\n",
    "import umap.umap_ as umap\n",
    "from sklearn.preprocessing import StandardScaler, MinMaxScaler\n",
    "from sklearn.feature_extraction.text import CountVectorizer"
   ]
  },
  {
   "cell_type": "markdown",
   "metadata": {},
   "source": [
    "### Set Random Seed"
   ]
  },
  {
   "cell_type": "code",
   "execution_count": 2,
   "metadata": {},
   "outputs": [],
   "source": [
    "np.random.seed(10)\n",
    "os.environ[\"TOKENIZERS_PARALLELISM\"] = 'false'"
   ]
  },
  {
   "cell_type": "markdown",
   "metadata": {},
   "source": [
    "### Load Preprocessed Data"
   ]
  },
  {
   "cell_type": "code",
   "execution_count": 3,
   "metadata": {},
   "outputs": [],
   "source": [
    "articles = pd.read_parquet('../data/proc_articles.gzip')\n",
    "articles = articles.reset_index(drop=True)"
   ]
  },
  {
   "cell_type": "code",
   "execution_count": 4,
   "metadata": {},
   "outputs": [
    {
     "data": {
      "text/html": [
       "<div>\n",
       "<style scoped>\n",
       "    .dataframe tbody tr th:only-of-type {\n",
       "        vertical-align: middle;\n",
       "    }\n",
       "\n",
       "    .dataframe tbody tr th {\n",
       "        vertical-align: top;\n",
       "    }\n",
       "\n",
       "    .dataframe thead th {\n",
       "        text-align: right;\n",
       "    }\n",
       "</style>\n",
       "<table border=\"1\" class=\"dataframe\">\n",
       "  <thead>\n",
       "    <tr style=\"text-align: right;\">\n",
       "      <th></th>\n",
       "      <th>title</th>\n",
       "      <th>author</th>\n",
       "      <th>publication</th>\n",
       "      <th>content</th>\n",
       "      <th>party</th>\n",
       "    </tr>\n",
       "  </thead>\n",
       "  <tbody>\n",
       "    <tr>\n",
       "      <th>0</th>\n",
       "      <td>Breitbart Launches ’Border Wall Construction C...</td>\n",
       "      <td>Milo</td>\n",
       "      <td>Breitbart</td>\n",
       "      <td>Last weekend at church I confessed my sin of p...</td>\n",
       "      <td>right</td>\n",
       "    </tr>\n",
       "    <tr>\n",
       "      <th>1</th>\n",
       "      <td>IDF Airstrike Eliminates 4 Islamic State-Linke...</td>\n",
       "      <td>Breitbart Jerusalem</td>\n",
       "      <td>Breitbart</td>\n",
       "      <td>The Times of Israel reports:  An Israeli airst...</td>\n",
       "      <td>right</td>\n",
       "    </tr>\n",
       "    <tr>\n",
       "      <th>2</th>\n",
       "      <td>Oracle Funds Anti-Google Effort that Outs Hill...</td>\n",
       "      <td>Chriss W. Street</td>\n",
       "      <td>Breitbart</td>\n",
       "      <td>The Oracle Corporation is using its deep finan...</td>\n",
       "      <td>right</td>\n",
       "    </tr>\n",
       "    <tr>\n",
       "      <th>3</th>\n",
       "      <td>Silicon Valley Urges Giving Election Day Off t...</td>\n",
       "      <td>Chriss W. Street</td>\n",
       "      <td>Breitbart</td>\n",
       "      <td>Apparently worried about the populist movement...</td>\n",
       "      <td>right</td>\n",
       "    </tr>\n",
       "    <tr>\n",
       "      <th>4</th>\n",
       "      <td>Illegal Migrant Abandoned in Desert Calls 911 ...</td>\n",
       "      <td>Bob Price</td>\n",
       "      <td>Breitbart</td>\n",
       "      <td>A severely dehydrated illegal alien called 911...</td>\n",
       "      <td>right</td>\n",
       "    </tr>\n",
       "  </tbody>\n",
       "</table>\n",
       "</div>"
      ],
      "text/plain": [
       "                                               title               author  \\\n",
       "0  Breitbart Launches ’Border Wall Construction C...                 Milo   \n",
       "1  IDF Airstrike Eliminates 4 Islamic State-Linke...  Breitbart Jerusalem   \n",
       "2  Oracle Funds Anti-Google Effort that Outs Hill...     Chriss W. Street   \n",
       "3  Silicon Valley Urges Giving Election Day Off t...     Chriss W. Street   \n",
       "4  Illegal Migrant Abandoned in Desert Calls 911 ...            Bob Price   \n",
       "\n",
       "  publication                                            content  party  \n",
       "0   Breitbart  Last weekend at church I confessed my sin of p...  right  \n",
       "1   Breitbart  The Times of Israel reports:  An Israeli airst...  right  \n",
       "2   Breitbart  The Oracle Corporation is using its deep finan...  right  \n",
       "3   Breitbart  Apparently worried about the populist movement...  right  \n",
       "4   Breitbart  A severely dehydrated illegal alien called 911...  right  "
      ]
     },
     "execution_count": 4,
     "metadata": {},
     "output_type": "execute_result"
    }
   ],
   "source": [
    "articles.head()"
   ]
  },
  {
   "cell_type": "markdown",
   "metadata": {},
   "source": [
    "### Perform Stemming and Remove Stop Words"
   ]
  },
  {
   "cell_type": "code",
   "execution_count": 5,
   "metadata": {},
   "outputs": [
    {
     "data": {
      "text/html": [
       "<div>\n",
       "<style scoped>\n",
       "    .dataframe tbody tr th:only-of-type {\n",
       "        vertical-align: middle;\n",
       "    }\n",
       "\n",
       "    .dataframe tbody tr th {\n",
       "        vertical-align: top;\n",
       "    }\n",
       "\n",
       "    .dataframe thead th {\n",
       "        text-align: right;\n",
       "    }\n",
       "</style>\n",
       "<table border=\"1\" class=\"dataframe\">\n",
       "  <thead>\n",
       "    <tr style=\"text-align: right;\">\n",
       "      <th></th>\n",
       "      <th>title</th>\n",
       "      <th>author</th>\n",
       "      <th>publication</th>\n",
       "      <th>content</th>\n",
       "      <th>party</th>\n",
       "    </tr>\n",
       "  </thead>\n",
       "  <tbody>\n",
       "    <tr>\n",
       "      <th>0</th>\n",
       "      <td>Breitbart Launches ’Border Wall Construction C...</td>\n",
       "      <td>Milo</td>\n",
       "      <td>Breitbart</td>\n",
       "      <td>last weekend church confessed sin personal van...</td>\n",
       "      <td>right</td>\n",
       "    </tr>\n",
       "    <tr>\n",
       "      <th>1</th>\n",
       "      <td>IDF Airstrike Eliminates 4 Islamic State-Linke...</td>\n",
       "      <td>Breitbart Jerusalem</td>\n",
       "      <td>Breitbart</td>\n",
       "      <td>times israel reports israeli airstrike killed ...</td>\n",
       "      <td>right</td>\n",
       "    </tr>\n",
       "    <tr>\n",
       "      <th>2</th>\n",
       "      <td>Oracle Funds Anti-Google Effort that Outs Hill...</td>\n",
       "      <td>Chriss W. Street</td>\n",
       "      <td>Breitbart</td>\n",
       "      <td>oracle corporation using deep financial resour...</td>\n",
       "      <td>right</td>\n",
       "    </tr>\n",
       "    <tr>\n",
       "      <th>3</th>\n",
       "      <td>Silicon Valley Urges Giving Election Day Off t...</td>\n",
       "      <td>Chriss W. Street</td>\n",
       "      <td>Breitbart</td>\n",
       "      <td>apparently worried populist movement led donal...</td>\n",
       "      <td>right</td>\n",
       "    </tr>\n",
       "    <tr>\n",
       "      <th>4</th>\n",
       "      <td>Illegal Migrant Abandoned in Desert Calls 911 ...</td>\n",
       "      <td>Bob Price</td>\n",
       "      <td>Breitbart</td>\n",
       "      <td>severely dehydrated illegal alien called 911 p...</td>\n",
       "      <td>right</td>\n",
       "    </tr>\n",
       "  </tbody>\n",
       "</table>\n",
       "</div>"
      ],
      "text/plain": [
       "                                               title               author  \\\n",
       "0  Breitbart Launches ’Border Wall Construction C...                 Milo   \n",
       "1  IDF Airstrike Eliminates 4 Islamic State-Linke...  Breitbart Jerusalem   \n",
       "2  Oracle Funds Anti-Google Effort that Outs Hill...     Chriss W. Street   \n",
       "3  Silicon Valley Urges Giving Election Day Off t...     Chriss W. Street   \n",
       "4  Illegal Migrant Abandoned in Desert Calls 911 ...            Bob Price   \n",
       "\n",
       "  publication                                            content  party  \n",
       "0   Breitbart  last weekend church confessed sin personal van...  right  \n",
       "1   Breitbart  times israel reports israeli airstrike killed ...  right  \n",
       "2   Breitbart  oracle corporation using deep financial resour...  right  \n",
       "3   Breitbart  apparently worried populist movement led donal...  right  \n",
       "4   Breitbart  severely dehydrated illegal alien called 911 p...  right  "
      ]
     },
     "execution_count": 5,
     "metadata": {},
     "output_type": "execute_result"
    }
   ],
   "source": [
    "# Load in stop words, stemmer, and regex tokenizer\n",
    "stop = stopwords.words('english')\n",
    "punc = RegexpTokenizer(r'\\w+')\n",
    "# stemmer = PorterStemmer()\n",
    "\n",
    "# Define function for de-lemmatizing words, removing whitespace, and stop words\n",
    "def reformat_articles(w):\n",
    "    # lowecase and remove stop words\n",
    "    words = [word.lower() for word in w.split() if word.lower() not in stop]\n",
    "    # remove punctuation\n",
    "    words = [punc.tokenize(word) for word in words]\n",
    "    # remove whitespace\n",
    "    words = list(chain.from_iterable(words))\n",
    "    # remove stems\n",
    "    # words = [stemmer.stem(word) for word in words]  # TODO -- SEE IF IMPROVED AFTER DELETING THIS LINE\n",
    "    # convert from list to string\n",
    "    new_article = ' '.join(words)\n",
    "    return new_article\n",
    "\n",
    "# Apply lemmatization, whitespace removal, and stop word removal\n",
    "articles['content'] = articles['content'].apply(reformat_articles)\n",
    "articles.head()"
   ]
  },
  {
   "cell_type": "markdown",
   "metadata": {},
   "source": [
    "### Embed Articles"
   ]
  },
  {
   "cell_type": "code",
   "execution_count": 6,
   "metadata": {},
   "outputs": [
    {
     "data": {
      "application/vnd.jupyter.widget-view+json": {
       "model_id": "2e98387b648f482c9ad0a14203c3affd",
       "version_major": 2,
       "version_minor": 0
      },
      "text/plain": [
       "  0%|          | 0.00/245M [00:00<?, ?B/s]"
      ]
     },
     "metadata": {},
     "output_type": "display_data"
    }
   ],
   "source": [
    "# Load in pre-trained DistilBERT model\n",
    "# DistilBERT is a small, fast, cheap and light Transformer model trained by distilling BERT base. It has 40% less parameters than bert-base-uncased , runs 60% faster while preserving over 95% of BERT's performances as measured on the GLUE language understanding benchmark\n",
    "model = SentenceTransformer('distilbert-base-nli-mean-tokens')"
   ]
  },
  {
   "cell_type": "code",
   "execution_count": 7,
   "metadata": {},
   "outputs": [
    {
     "data": {
      "application/vnd.jupyter.widget-view+json": {
       "model_id": "c95859ed2d184cd494c15a6cccfce6eb",
       "version_major": 2,
       "version_minor": 0
      },
      "text/plain": [
       "Batches:   0%|          | 0/1318 [00:00<?, ?it/s]"
      ]
     },
     "metadata": {},
     "output_type": "display_data"
    }
   ],
   "source": [
    "# Encode embeddings\n",
    "embeddings = model.encode(articles['content'], show_progress_bar=True)"
   ]
  },
  {
   "cell_type": "markdown",
   "metadata": {},
   "source": [
    "### Standardize Embeddings"
   ]
  },
  {
   "cell_type": "code",
   "execution_count": 8,
   "metadata": {},
   "outputs": [],
   "source": [
    "# Perform mean-centering standardization on embeddings\n",
    "std_embeddings = StandardScaler(with_mean=True).fit_transform(embeddings)"
   ]
  },
  {
   "cell_type": "markdown",
   "metadata": {},
   "source": [
    "### Neighborhood-Based Dimensionality Reduction"
   ]
  },
  {
   "cell_type": "code",
   "execution_count": 9,
   "metadata": {},
   "outputs": [],
   "source": [
    "# Perform non-linear dimensionality reduction\n",
    "# The smaller the value, the more localized the dimensionality reduction\n",
    "# The larger the value, the more globalized the dimensionality reduction\n",
    "# n_neighbors = 15\n",
    "# n_components = 5\n",
    "# min_dist = 0.01\n",
    "# metric = cosine\n",
    "umap_embeddings = umap.UMAP(n_neighbors=15, n_components=5, min_dist=0.01, metric='cosine', random_state=42).fit_transform(std_embeddings)\n",
    "\n",
    "# Perform min-max standardization on embeddings\n",
    "std_umap_embeddings = MinMaxScaler().fit_transform(umap_embeddings)"
   ]
  },
  {
   "cell_type": "markdown",
   "metadata": {},
   "source": [
    "### Density-Based Clustering"
   ]
  },
  {
   "cell_type": "code",
   "execution_count": 10,
   "metadata": {},
   "outputs": [],
   "source": [
    "# Perform density-based clustering on dimensionality reduced embeddings\n",
    "# The smaller the value, the more clusters returned\n",
    "# The larger the value, the fewer clusters returned\n",
    "# min_cluster_size=100\n",
    "# metric=euclidean\n",
    "cluster = hdbscan.HDBSCAN(min_cluster_size=100, metric='euclidean').fit(std_umap_embeddings)"
   ]
  },
  {
   "cell_type": "code",
   "execution_count": 11,
   "metadata": {},
   "outputs": [
    {
     "data": {
      "text/plain": [
       "array([[   -1, 13328],\n",
       "       [    0,   457],\n",
       "       [    1,   786],\n",
       "       [    2,   120],\n",
       "       [    3,   371],\n",
       "       [    4,  1969],\n",
       "       [    5,  4002],\n",
       "       [    6,   249],\n",
       "       [    7,   530],\n",
       "       [    8,   261],\n",
       "       [    9,   269],\n",
       "       [   10,   571],\n",
       "       [   11,   350],\n",
       "       [   12,   113],\n",
       "       [   13, 12238],\n",
       "       [   14,   239],\n",
       "       [   15,   252],\n",
       "       [   16,  1399],\n",
       "       [   17,   347],\n",
       "       [   18,  1079],\n",
       "       [   19,   188],\n",
       "       [   20,   184],\n",
       "       [   21,   339],\n",
       "       [   22,   732],\n",
       "       [   23,   650],\n",
       "       [   24,  1127]])"
      ]
     },
     "execution_count": 11,
     "metadata": {},
     "output_type": "execute_result"
    }
   ],
   "source": [
    "# Frequencies of each cluster/label\n",
    "unique, counts = np.unique(cluster.labels_, return_counts=True)\n",
    "np.asarray((unique, counts)).T"
   ]
  },
  {
   "cell_type": "markdown",
   "metadata": {},
   "source": [
    "### Plot Clusters"
   ]
  },
  {
   "cell_type": "code",
   "execution_count": 12,
   "metadata": {},
   "outputs": [
    {
     "data": {
      "text/plain": [
       "<matplotlib.colorbar.Colorbar at 0x7fde489c4150>"
      ]
     },
     "execution_count": 12,
     "metadata": {},
     "output_type": "execute_result"
    },
    {
     "data": {
      "image/png": "[encoded data removed]",
      "text/plain": [
       "<Figure size 1440x720 with 2 Axes>"
      ]
     },
     "metadata": {
      "needs_background": "light"
     },
     "output_type": "display_data"
    }
   ],
   "source": [
    "# Prepare data\n",
    "umap_data = umap.UMAP(n_neighbors=15, n_components=2, min_dist=0.01, metric='cosine', random_state=42).fit_transform(embeddings)\n",
    "result = pd.DataFrame(umap_data, columns=['x', 'y'])\n",
    "result['labels'] = cluster.labels_\n",
    "\n",
    "# Visualize clusters\n",
    "fig, ax = plt.subplots(figsize=(20, 10))\n",
    "outliers = result.loc[result.labels == -1, :]\n",
    "clustered = result.loc[result.labels != -1, :]\n",
    "plt.scatter(outliers.x, outliers.y, color='#BDBDBD', s=10)\n",
    "plt.scatter(clustered.x, clustered.y, c=clustered.labels, s=10, cmap='hsv_r')\n",
    "plt.colorbar()"
   ]
  },
  {
   "cell_type": "markdown",
   "metadata": {},
   "source": [
    "### Saving Cluster Data"
   ]
  },
  {
   "cell_type": "code",
   "execution_count": 13,
   "metadata": {},
   "outputs": [
    {
     "data": {
      "text/plain": [
       "True"
      ]
     },
     "execution_count": 13,
     "metadata": {},
     "output_type": "execute_result"
    }
   ],
   "source": [
    "# Check if number of clusters equals number of articles\n",
    "articles.shape[0] == len(cluster.labels_)"
   ]
  },
  {
   "cell_type": "code",
   "execution_count": 14,
   "metadata": {},
   "outputs": [
    {
     "data": {
      "text/html": [
       "<div>\n",
       "<style scoped>\n",
       "    .dataframe tbody tr th:only-of-type {\n",
       "        vertical-align: middle;\n",
       "    }\n",
       "\n",
       "    .dataframe tbody tr th {\n",
       "        vertical-align: top;\n",
       "    }\n",
       "\n",
       "    .dataframe thead th {\n",
       "        text-align: right;\n",
       "    }\n",
       "</style>\n",
       "<table border=\"1\" class=\"dataframe\">\n",
       "  <thead>\n",
       "    <tr style=\"text-align: right;\">\n",
       "      <th></th>\n",
       "      <th>title</th>\n",
       "      <th>author</th>\n",
       "      <th>publication</th>\n",
       "      <th>content</th>\n",
       "      <th>party</th>\n",
       "      <th>cluster</th>\n",
       "    </tr>\n",
       "  </thead>\n",
       "  <tbody>\n",
       "    <tr>\n",
       "      <th>0</th>\n",
       "      <td>Breitbart Launches ’Border Wall Construction C...</td>\n",
       "      <td>Milo</td>\n",
       "      <td>Breitbart</td>\n",
       "      <td>last weekend church confessed sin personal van...</td>\n",
       "      <td>right</td>\n",
       "      <td>-1</td>\n",
       "    </tr>\n",
       "    <tr>\n",
       "      <th>1</th>\n",
       "      <td>IDF Airstrike Eliminates 4 Islamic State-Linke...</td>\n",
       "      <td>Breitbart Jerusalem</td>\n",
       "      <td>Breitbart</td>\n",
       "      <td>times israel reports israeli airstrike killed ...</td>\n",
       "      <td>right</td>\n",
       "      <td>4</td>\n",
       "    </tr>\n",
       "    <tr>\n",
       "      <th>2</th>\n",
       "      <td>Oracle Funds Anti-Google Effort that Outs Hill...</td>\n",
       "      <td>Chriss W. Street</td>\n",
       "      <td>Breitbart</td>\n",
       "      <td>oracle corporation using deep financial resour...</td>\n",
       "      <td>right</td>\n",
       "      <td>13</td>\n",
       "    </tr>\n",
       "    <tr>\n",
       "      <th>3</th>\n",
       "      <td>Silicon Valley Urges Giving Election Day Off t...</td>\n",
       "      <td>Chriss W. Street</td>\n",
       "      <td>Breitbart</td>\n",
       "      <td>apparently worried populist movement led donal...</td>\n",
       "      <td>right</td>\n",
       "      <td>-1</td>\n",
       "    </tr>\n",
       "    <tr>\n",
       "      <th>4</th>\n",
       "      <td>Illegal Migrant Abandoned in Desert Calls 911 ...</td>\n",
       "      <td>Bob Price</td>\n",
       "      <td>Breitbart</td>\n",
       "      <td>severely dehydrated illegal alien called 911 p...</td>\n",
       "      <td>right</td>\n",
       "      <td>5</td>\n",
       "    </tr>\n",
       "    <tr>\n",
       "      <th>5</th>\n",
       "      <td>Exclusive - Coulter to Iowa: Don’t Embarrass N...</td>\n",
       "      <td>Julia Hahn</td>\n",
       "      <td>Breitbart</td>\n",
       "      <td>conservative columnist new york times best sel...</td>\n",
       "      <td>right</td>\n",
       "      <td>13</td>\n",
       "    </tr>\n",
       "    <tr>\n",
       "      <th>6</th>\n",
       "      <td>Eight Pro-Second Amendment Smackdowns from NRA...</td>\n",
       "      <td>AWR Hawkins</td>\n",
       "      <td>Breitbart</td>\n",
       "      <td>leadership forum speakers ranging president do...</td>\n",
       "      <td>right</td>\n",
       "      <td>13</td>\n",
       "    </tr>\n",
       "    <tr>\n",
       "      <th>7</th>\n",
       "      <td>MSNBC ’Counter-Terrorism Analyst’ Calls for IS...</td>\n",
       "      <td>Ben Kew</td>\n",
       "      <td>Breitbart</td>\n",
       "      <td>another extraordinary outburst msnbc analyst m...</td>\n",
       "      <td>right</td>\n",
       "      <td>-1</td>\n",
       "    </tr>\n",
       "    <tr>\n",
       "      <th>8</th>\n",
       "      <td>White House Defends John Kerry Calls for Media...</td>\n",
       "      <td>Charlie Spiering</td>\n",
       "      <td>Breitbart</td>\n",
       "      <td>white house criticize secretary state john ker...</td>\n",
       "      <td>right</td>\n",
       "      <td>13</td>\n",
       "    </tr>\n",
       "    <tr>\n",
       "      <th>9</th>\n",
       "      <td>Northwestern to Quadruple Safe Spaces for Blac...</td>\n",
       "      <td>Tom Ciccotta</td>\n",
       "      <td>Breitbart</td>\n",
       "      <td>according task force report northwestern unive...</td>\n",
       "      <td>right</td>\n",
       "      <td>12</td>\n",
       "    </tr>\n",
       "    <tr>\n",
       "      <th>10</th>\n",
       "      <td>Orbán: EU Must Change After ’Christians Murder...</td>\n",
       "      <td>Virginia Hale</td>\n",
       "      <td>Breitbart</td>\n",
       "      <td>illegal migrants must deported europe s border...</td>\n",
       "      <td>right</td>\n",
       "      <td>15</td>\n",
       "    </tr>\n",
       "    <tr>\n",
       "      <th>11</th>\n",
       "      <td>Google Hides Popular Hillary Clinton Health Se...</td>\n",
       "      <td>Lucas Nolan</td>\n",
       "      <td>Breitbart</td>\n",
       "      <td>recent search engine results indicate google w...</td>\n",
       "      <td>right</td>\n",
       "      <td>17</td>\n",
       "    </tr>\n",
       "    <tr>\n",
       "      <th>12</th>\n",
       "      <td>Trinidad &amp;amp Tobago ’Largest Per-Capita’ Isla...</td>\n",
       "      <td>Edwin Mora</td>\n",
       "      <td>Breitbart</td>\n",
       "      <td>125 jihadists relatives traveled caribbean isl...</td>\n",
       "      <td>right</td>\n",
       "      <td>4</td>\n",
       "    </tr>\n",
       "    <tr>\n",
       "      <th>13</th>\n",
       "      <td>Two Policemen Dead In Paris Shooting</td>\n",
       "      <td>Breitbart London</td>\n",
       "      <td>Breitbart</td>\n",
       "      <td>one police officer killed apparent shooting de...</td>\n",
       "      <td>right</td>\n",
       "      <td>4</td>\n",
       "    </tr>\n",
       "    <tr>\n",
       "      <th>14</th>\n",
       "      <td>Carly Fiorina: Hillary ’More Qualified for the...</td>\n",
       "      <td>Michelle Fields</td>\n",
       "      <td>Breitbart</td>\n",
       "      <td>des moines iowa republican presidential candid...</td>\n",
       "      <td>right</td>\n",
       "      <td>13</td>\n",
       "    </tr>\n",
       "  </tbody>\n",
       "</table>\n",
       "</div>"
      ],
      "text/plain": [
       "                                                title               author  \\\n",
       "0   Breitbart Launches ’Border Wall Construction C...                 Milo   \n",
       "1   IDF Airstrike Eliminates 4 Islamic State-Linke...  Breitbart Jerusalem   \n",
       "2   Oracle Funds Anti-Google Effort that Outs Hill...     Chriss W. Street   \n",
       "3   Silicon Valley Urges Giving Election Day Off t...     Chriss W. Street   \n",
       "4   Illegal Migrant Abandoned in Desert Calls 911 ...            Bob Price   \n",
       "5   Exclusive - Coulter to Iowa: Don’t Embarrass N...           Julia Hahn   \n",
       "6   Eight Pro-Second Amendment Smackdowns from NRA...          AWR Hawkins   \n",
       "7   MSNBC ’Counter-Terrorism Analyst’ Calls for IS...              Ben Kew   \n",
       "8   White House Defends John Kerry Calls for Media...     Charlie Spiering   \n",
       "9   Northwestern to Quadruple Safe Spaces for Blac...         Tom Ciccotta   \n",
       "10  Orbán: EU Must Change After ’Christians Murder...        Virginia Hale   \n",
       "11  Google Hides Popular Hillary Clinton Health Se...          Lucas Nolan   \n",
       "12  Trinidad &amp Tobago ’Largest Per-Capita’ Isla...           Edwin Mora   \n",
       "13               Two Policemen Dead In Paris Shooting     Breitbart London   \n",
       "14  Carly Fiorina: Hillary ’More Qualified for the...      Michelle Fields   \n",
       "\n",
       "   publication                                            content  party  \\\n",
       "0    Breitbart  last weekend church confessed sin personal van...  right   \n",
       "1    Breitbart  times israel reports israeli airstrike killed ...  right   \n",
       "2    Breitbart  oracle corporation using deep financial resour...  right   \n",
       "3    Breitbart  apparently worried populist movement led donal...  right   \n",
       "4    Breitbart  severely dehydrated illegal alien called 911 p...  right   \n",
       "5    Breitbart  conservative columnist new york times best sel...  right   \n",
       "6    Breitbart  leadership forum speakers ranging president do...  right   \n",
       "7    Breitbart  another extraordinary outburst msnbc analyst m...  right   \n",
       "8    Breitbart  white house criticize secretary state john ker...  right   \n",
       "9    Breitbart  according task force report northwestern unive...  right   \n",
       "10   Breitbart  illegal migrants must deported europe s border...  right   \n",
       "11   Breitbart  recent search engine results indicate google w...  right   \n",
       "12   Breitbart  125 jihadists relatives traveled caribbean isl...  right   \n",
       "13   Breitbart  one police officer killed apparent shooting de...  right   \n",
       "14   Breitbart  des moines iowa republican presidential candid...  right   \n",
       "\n",
       "    cluster  \n",
       "0        -1  \n",
       "1         4  \n",
       "2        13  \n",
       "3        -1  \n",
       "4         5  \n",
       "5        13  \n",
       "6        13  \n",
       "7        -1  \n",
       "8        13  \n",
       "9        12  \n",
       "10       15  \n",
       "11       17  \n",
       "12        4  \n",
       "13        4  \n",
       "14       13  "
      ]
     },
     "execution_count": 14,
     "metadata": {},
     "output_type": "execute_result"
    }
   ],
   "source": [
    "# Assign respective cluster to each article\n",
    "articles['cluster'] = pd.Series(cluster.labels_, index=articles.index)\n",
    "# articles[articles['cluster'] == 13].head(10)\n",
    "articles.head(15)"
   ]
  },
  {
   "cell_type": "code",
   "execution_count": 16,
   "metadata": {},
   "outputs": [
    {
     "data": {
      "text/plain": [
       "'recent search engine results indicate google whose ceo supporter hillary clinton s presidential campaign suppressing negative search results democratic party s presidential nominee searches hillary clinton s across three different search engines provide quite different results searched google first suggested searches provided hillary clinton s headquarters hillary clinton s health plan hillary clinton s healthcare plan search results bing return suggestions hillary clinton s health hillary clinton s health issues hillary clinton s health weight search results yahoo return suggestions hillary clinton s health problems hillary clinton s health hillary clinton s health issues earlier august new york times tech columnist farhad manjoo called google fix search results related clinton s health google fix this shouldn t give quarter conspiracy theorists tweeted isn t first time google accused favouring one presidential candidate another june wikileaks founder julian assange accused google directly engaged hillary clinton s campaign later month video released proving google altering search results favour democratic presidential nominee eric schmidt executive chairman google parent company alphabet runs digital group called groundwork directly focuses clinton s digital media presence lucas nolan conservative regularly contributes articles censorship free speech breitbart follow twitter lucasnolan_ email lucas yiannopoulos net'"
      ]
     },
     "execution_count": 16,
     "metadata": {},
     "output_type": "execute_result"
    }
   ],
   "source": [
    "# Check if cluster propely added to first row\n",
    "articles['content'][11]"
   ]
  },
  {
   "cell_type": "code",
   "execution_count": 47,
   "metadata": {},
   "outputs": [],
   "source": [
    "# Save cluster data as CSV\n",
    "articles.to_parquet('../data/cluster_articles.gzip', compression='gzip')"
   ]
  },
  {
   "cell_type": "markdown",
   "metadata": {},
   "source": [
    "### Topic Modeling"
   ]
  },
  {
   "cell_type": "code",
   "execution_count": 17,
   "metadata": {},
   "outputs": [
    {
     "data": {
      "text/html": [
       "<div>\n",
       "<style scoped>\n",
       "    .dataframe tbody tr th:only-of-type {\n",
       "        vertical-align: middle;\n",
       "    }\n",
       "\n",
       "    .dataframe tbody tr th {\n",
       "        vertical-align: top;\n",
       "    }\n",
       "\n",
       "    .dataframe thead th {\n",
       "        text-align: right;\n",
       "    }\n",
       "</style>\n",
       "<table border=\"1\" class=\"dataframe\">\n",
       "  <thead>\n",
       "    <tr style=\"text-align: right;\">\n",
       "      <th></th>\n",
       "      <th>Topic</th>\n",
       "      <th>Doc</th>\n",
       "    </tr>\n",
       "  </thead>\n",
       "  <tbody>\n",
       "    <tr>\n",
       "      <th>0</th>\n",
       "      <td>-1</td>\n",
       "      <td>last weekend church confessed sin personal van...</td>\n",
       "    </tr>\n",
       "    <tr>\n",
       "      <th>1</th>\n",
       "      <td>0</td>\n",
       "      <td>miami ap person direct knowledge negotiations ...</td>\n",
       "    </tr>\n",
       "    <tr>\n",
       "      <th>2</th>\n",
       "      <td>1</td>\n",
       "      <td>international nuclear accord signed iran abrog...</td>\n",
       "    </tr>\n",
       "    <tr>\n",
       "      <th>3</th>\n",
       "      <td>2</td>\n",
       "      <td>sen jeff flake says president barack obama rig...</td>\n",
       "    </tr>\n",
       "    <tr>\n",
       "      <th>4</th>\n",
       "      <td>3</td>\n",
       "      <td>scientists said thursday first time detected g...</td>\n",
       "    </tr>\n",
       "  </tbody>\n",
       "</table>\n",
       "</div>"
      ],
      "text/plain": [
       "   Topic                                                Doc\n",
       "0     -1  last weekend church confessed sin personal van...\n",
       "1      0  miami ap person direct knowledge negotiations ...\n",
       "2      1  international nuclear accord signed iran abrog...\n",
       "3      2  sen jeff flake says president barack obama rig...\n",
       "4      3  scientists said thursday first time detected g..."
      ]
     },
     "execution_count": 17,
     "metadata": {},
     "output_type": "execute_result"
    }
   ],
   "source": [
    "# Assign articles to topics\n",
    "docs_df = pd.DataFrame(articles['content'])\n",
    "docs_df['Topic'] = cluster.labels_\n",
    "docs_df['Doc_ID'] = range(len(docs_df))\n",
    "docs_df.columns = ['Doc', 'Topic', 'Doc_ID']\n",
    "docs_per_topic = docs_df.groupby(['Topic'], as_index = False).agg({'Doc': ' '.join})\n",
    "docs_per_topic.head()"
   ]
  },
  {
   "cell_type": "code",
   "execution_count": 18,
   "metadata": {},
   "outputs": [],
   "source": [
    "# Compute c-TF-IDF scores for each word\n",
    "def c_tf_idf(documents, m, ngram_range=(1, 1)):\n",
    "    count = CountVectorizer(ngram_range=ngram_range, stop_words=\"english\").fit(documents)\n",
    "    t = count.transform(documents).toarray()\n",
    "    w = t.sum(axis=1)\n",
    "    tf = np.divide(t.T, w)\n",
    "    sum_t = t.sum(axis=0)\n",
    "    idf = np.log(np.divide(m, sum_t)).reshape(-1, 1)\n",
    "    tf_idf = np.multiply(tf, idf)\n",
    "    return tf_idf, count\n",
    "  \n",
    "tf_idf, count = c_tf_idf(docs_per_topic.Doc.values, m=len(articles['content']))"
   ]
  },
  {
   "cell_type": "code",
   "execution_count": 19,
   "metadata": {},
   "outputs": [
    {
     "data": {
      "text/html": [
       "<div>\n",
       "<style scoped>\n",
       "    .dataframe tbody tr th:only-of-type {\n",
       "        vertical-align: middle;\n",
       "    }\n",
       "\n",
       "    .dataframe tbody tr th {\n",
       "        vertical-align: top;\n",
       "    }\n",
       "\n",
       "    .dataframe thead th {\n",
       "        text-align: right;\n",
       "    }\n",
       "</style>\n",
       "<table border=\"1\" class=\"dataframe\">\n",
       "  <thead>\n",
       "    <tr style=\"text-align: right;\">\n",
       "      <th></th>\n",
       "      <th>Topic</th>\n",
       "      <th>Size</th>\n",
       "    </tr>\n",
       "  </thead>\n",
       "  <tbody>\n",
       "    <tr>\n",
       "      <th>0</th>\n",
       "      <td>-1</td>\n",
       "      <td>13328</td>\n",
       "    </tr>\n",
       "    <tr>\n",
       "      <th>14</th>\n",
       "      <td>13</td>\n",
       "      <td>12238</td>\n",
       "    </tr>\n",
       "    <tr>\n",
       "      <th>6</th>\n",
       "      <td>5</td>\n",
       "      <td>4002</td>\n",
       "    </tr>\n",
       "    <tr>\n",
       "      <th>5</th>\n",
       "      <td>4</td>\n",
       "      <td>1969</td>\n",
       "    </tr>\n",
       "    <tr>\n",
       "      <th>17</th>\n",
       "      <td>16</td>\n",
       "      <td>1399</td>\n",
       "    </tr>\n",
       "    <tr>\n",
       "      <th>25</th>\n",
       "      <td>24</td>\n",
       "      <td>1127</td>\n",
       "    </tr>\n",
       "    <tr>\n",
       "      <th>19</th>\n",
       "      <td>18</td>\n",
       "      <td>1079</td>\n",
       "    </tr>\n",
       "    <tr>\n",
       "      <th>2</th>\n",
       "      <td>1</td>\n",
       "      <td>786</td>\n",
       "    </tr>\n",
       "    <tr>\n",
       "      <th>23</th>\n",
       "      <td>22</td>\n",
       "      <td>732</td>\n",
       "    </tr>\n",
       "    <tr>\n",
       "      <th>24</th>\n",
       "      <td>23</td>\n",
       "      <td>650</td>\n",
       "    </tr>\n",
       "    <tr>\n",
       "      <th>11</th>\n",
       "      <td>10</td>\n",
       "      <td>571</td>\n",
       "    </tr>\n",
       "    <tr>\n",
       "      <th>8</th>\n",
       "      <td>7</td>\n",
       "      <td>530</td>\n",
       "    </tr>\n",
       "    <tr>\n",
       "      <th>1</th>\n",
       "      <td>0</td>\n",
       "      <td>457</td>\n",
       "    </tr>\n",
       "    <tr>\n",
       "      <th>4</th>\n",
       "      <td>3</td>\n",
       "      <td>371</td>\n",
       "    </tr>\n",
       "    <tr>\n",
       "      <th>12</th>\n",
       "      <td>11</td>\n",
       "      <td>350</td>\n",
       "    </tr>\n",
       "    <tr>\n",
       "      <th>18</th>\n",
       "      <td>17</td>\n",
       "      <td>347</td>\n",
       "    </tr>\n",
       "    <tr>\n",
       "      <th>22</th>\n",
       "      <td>21</td>\n",
       "      <td>339</td>\n",
       "    </tr>\n",
       "    <tr>\n",
       "      <th>10</th>\n",
       "      <td>9</td>\n",
       "      <td>269</td>\n",
       "    </tr>\n",
       "    <tr>\n",
       "      <th>9</th>\n",
       "      <td>8</td>\n",
       "      <td>261</td>\n",
       "    </tr>\n",
       "    <tr>\n",
       "      <th>16</th>\n",
       "      <td>15</td>\n",
       "      <td>252</td>\n",
       "    </tr>\n",
       "    <tr>\n",
       "      <th>7</th>\n",
       "      <td>6</td>\n",
       "      <td>249</td>\n",
       "    </tr>\n",
       "    <tr>\n",
       "      <th>15</th>\n",
       "      <td>14</td>\n",
       "      <td>239</td>\n",
       "    </tr>\n",
       "    <tr>\n",
       "      <th>20</th>\n",
       "      <td>19</td>\n",
       "      <td>188</td>\n",
       "    </tr>\n",
       "    <tr>\n",
       "      <th>21</th>\n",
       "      <td>20</td>\n",
       "      <td>184</td>\n",
       "    </tr>\n",
       "    <tr>\n",
       "      <th>3</th>\n",
       "      <td>2</td>\n",
       "      <td>120</td>\n",
       "    </tr>\n",
       "    <tr>\n",
       "      <th>13</th>\n",
       "      <td>12</td>\n",
       "      <td>113</td>\n",
       "    </tr>\n",
       "  </tbody>\n",
       "</table>\n",
       "</div>"
      ],
      "text/plain": [
       "    Topic   Size\n",
       "0      -1  13328\n",
       "14     13  12238\n",
       "6       5   4002\n",
       "5       4   1969\n",
       "17     16   1399\n",
       "25     24   1127\n",
       "19     18   1079\n",
       "2       1    786\n",
       "23     22    732\n",
       "24     23    650\n",
       "11     10    571\n",
       "8       7    530\n",
       "1       0    457\n",
       "4       3    371\n",
       "12     11    350\n",
       "18     17    347\n",
       "22     21    339\n",
       "10      9    269\n",
       "9       8    261\n",
       "16     15    252\n",
       "7       6    249\n",
       "15     14    239\n",
       "20     19    188\n",
       "21     20    184\n",
       "3       2    120\n",
       "13     12    113"
      ]
     },
     "execution_count": 19,
     "metadata": {},
     "output_type": "execute_result"
    }
   ],
   "source": [
    "# Extract top words for each topic\n",
    "def extract_top_n_words_per_topic(tf_idf, count, docs_per_topic, n=20):\n",
    "    words = count.get_feature_names()\n",
    "    labels = list(docs_per_topic.Topic)\n",
    "    tf_idf_transposed = tf_idf.T\n",
    "    indices = tf_idf_transposed.argsort()[:, -n:]\n",
    "    top_n_words = {label: [(words[j], tf_idf_transposed[i][j]) for j in indices[i]][::-1] for i, label in enumerate(labels)}\n",
    "    return top_n_words\n",
    "\n",
    "def extract_topic_sizes(df):\n",
    "    topic_sizes = (df.groupby(['Topic'])\n",
    "                     .Doc\n",
    "                     .count()\n",
    "                     .reset_index()\n",
    "                     .rename({\"Topic\": \"Topic\", \"Doc\": \"Size\"}, axis='columns')\n",
    "                     .sort_values(\"Size\", ascending=False))\n",
    "    return topic_sizes\n",
    "\n",
    "top_n_words = extract_top_n_words_per_topic(tf_idf, count, docs_per_topic, n=20)\n",
    "topic_sizes = extract_topic_sizes(docs_df)\n",
    "topic_sizes"
   ]
  },
  {
   "cell_type": "markdown",
   "metadata": {},
   "source": [
    "### Test Topics"
   ]
  },
  {
   "cell_type": "code",
   "execution_count": 21,
   "metadata": {},
   "outputs": [
    {
     "data": {
      "text/plain": [
       "[('republicans', 0.002577901667856221),\n",
       " ('democrats', 0.002455884947857724),\n",
       " ('hillary', 0.002383321342845069),\n",
       " ('senate', 0.0023442060974544756),\n",
       " ('comey', 0.0023340120182832086),\n",
       " ('republican', 0.002321380613864116),\n",
       " ('presidential', 0.002289435354189384),\n",
       " ('voters', 0.0022734041080611964),\n",
       " ('election', 0.0022625122769683),\n",
       " ('gop', 0.0022536956584001014),\n",
       " ('democratic', 0.002227342717866935),\n",
       " ('cruz', 0.0022176332903043063),\n",
       " ('donald', 0.002196862100507445),\n",
       " ('nominee', 0.0021294454795941675),\n",
       " ('candidate', 0.0021218125041105296),\n",
       " ('sanders', 0.002119111245519993),\n",
       " ('vote', 0.002011952316850944),\n",
       " ('committee', 0.0019856385933093228),\n",
       " ('russia', 0.0019271953342247289),\n",
       " ('sen', 0.0019110898353155495)]"
      ]
     },
     "execution_count": 21,
     "metadata": {},
     "output_type": "execute_result"
    }
   ],
   "source": [
    "# Topic: Politics\n",
    "top_n_words[13][:20]"
   ]
  },
  {
   "cell_type": "code",
   "execution_count": 22,
   "metadata": {},
   "outputs": [
    {
     "data": {
      "text/plain": [
       "[('officers', 0.005303951365955631),\n",
       " ('officer', 0.004661908819540735),\n",
       " ('police', 0.004503551223668294),\n",
       " ('shooting', 0.004301524085026871),\n",
       " ('prison', 0.003564461576939283),\n",
       " ('shot', 0.003446941260483141),\n",
       " ('charges', 0.0032754002078278625),\n",
       " ('authorities', 0.0031785037974360066),\n",
       " ('county', 0.003150062479530337),\n",
       " ('murder', 0.0031373123972697784),\n",
       " ('death', 0.0030584667287498384),\n",
       " ('prosecutors', 0.002983654043116315),\n",
       " ('gun', 0.002977645894100253),\n",
       " ('arrested', 0.0029285583717790684),\n",
       " ('attorney', 0.002901454916605701),\n",
       " ('enforcement', 0.0029006030475776778),\n",
       " ('charged', 0.002871524394046409),\n",
       " ('case', 0.0027001342318225233),\n",
       " ('criminal', 0.0026951428385685585),\n",
       " ('man', 0.002692527706273033)]"
      ]
     },
     "execution_count": 22,
     "metadata": {},
     "output_type": "execute_result"
    }
   ],
   "source": [
    "# Topic: Crime\n",
    "top_n_words[5][:20]"
   ]
  },
  {
   "cell_type": "code",
   "execution_count": 23,
   "metadata": {},
   "outputs": [
    {
     "data": {
      "text/plain": [
       "[('isis', 0.008936729984583038),\n",
       " ('syria', 0.008890535024609314),\n",
       " ('forces', 0.008098446444081354),\n",
       " ('syrian', 0.007921766227576114),\n",
       " ('islamic', 0.007846559380773914),\n",
       " ('attack', 0.006320995814249615),\n",
       " ('turkey', 0.005942456010392001),\n",
       " ('fighters', 0.0056448554827100645),\n",
       " ('aleppo', 0.005644540575826877),\n",
       " ('killed', 0.00558510711161753),\n",
       " ('attacks', 0.005496194406213875),\n",
       " ('iraqi', 0.005405395396764282),\n",
       " ('iraq', 0.005393469660583266),\n",
       " ('mosul', 0.005347848382045916),\n",
       " ('civilians', 0.0053019464803219),\n",
       " ('military', 0.0052571576839020575),\n",
       " ('militants', 0.0044997691352170275),\n",
       " ('turkish', 0.0043173509736926085),\n",
       " ('assad', 0.004297605253900946),\n",
       " ('terrorist', 0.004256971274124419)]"
      ]
     },
     "execution_count": 23,
     "metadata": {},
     "output_type": "execute_result"
    }
   ],
   "source": [
    "# Topic: War/Terrorism\n",
    "top_n_words[4][:20]"
   ]
  },
  {
   "cell_type": "code",
   "execution_count": 24,
   "metadata": {},
   "outputs": [
    {
     "data": {
      "text/plain": [
       "[('storm', 0.008004244133613328),\n",
       " ('snow', 0.006200055116771901),\n",
       " ('water', 0.005706044040997945),\n",
       " ('weather', 0.005677505403868105),\n",
       " ('hurricane', 0.0049397213667533016),\n",
       " ('rain', 0.004386566045731643),\n",
       " ('dogs', 0.003997677407188145),\n",
       " ('flooding', 0.003784508808993236),\n",
       " ('animals', 0.0036994601827075343),\n",
       " ('coast', 0.003628100133636701),\n",
       " ('animal', 0.0036224378310831585),\n",
       " ('ice', 0.003565864274714733),\n",
       " ('climate', 0.0035502781438434324),\n",
       " ('temperatures', 0.003531960187129339),\n",
       " ('sea', 0.003478344859734298),\n",
       " ('emergency', 0.003373315402381358),\n",
       " ('area', 0.0033486514257755453),\n",
       " ('winds', 0.003309450661357792),\n",
       " ('fish', 0.003288110645721336),\n",
       " ('zoo', 0.003285579419727103)]"
      ]
     },
     "execution_count": 24,
     "metadata": {},
     "output_type": "execute_result"
    }
   ],
   "source": [
    "# Topic: Global Warming\n",
    "top_n_words[16][:20]"
   ]
  },
  {
   "cell_type": "code",
   "execution_count": 25,
   "metadata": {},
   "outputs": [
    {
     "data": {
      "text/plain": [
       "[('fashion', 0.005311010429239112),\n",
       " ('movie', 0.005217431975592134),\n",
       " ('film', 0.004986879938473318),\n",
       " ('character', 0.0036635758191412324),\n",
       " ('love', 0.0036398436391434042),\n",
       " ('characters', 0.003215713800507733),\n",
       " ('movies', 0.0030349791491615648),\n",
       " ('comedy', 0.0029605809860199345),\n",
       " ('dress', 0.0029373386168843937),\n",
       " ('woman', 0.0028191406016929016),\n",
       " ('hollywood', 0.0027242028233974746),\n",
       " ('series', 0.0026639278197085918),\n",
       " ('star', 0.0026245376452670903),\n",
       " ('ms', 0.002605566775602692),\n",
       " ('tv', 0.002601105298803943),\n",
       " ('girl', 0.0024987272586408783),\n",
       " ('married', 0.002467331979220689),\n",
       " ('designer', 0.0024357111451470516),\n",
       " ('book', 0.0023749484646262502),\n",
       " ('mother', 0.002327263799853156)]"
      ]
     },
     "execution_count": 25,
     "metadata": {},
     "output_type": "execute_result"
    }
   ],
   "source": [
    "# Topic: Pop Culture/Entertainment\n",
    "top_n_words[24][:20]"
   ]
  },
  {
   "cell_type": "code",
   "execution_count": 26,
   "metadata": {},
   "outputs": [
    {
     "data": {
      "text/plain": [
       "[('food', 0.010485602466457664),\n",
       " ('eat', 0.0055733556531302655),\n",
       " ('restaurant', 0.005416537347182638),\n",
       " ('foods', 0.0049724398715332),\n",
       " ('eating', 0.00496690699094125),\n",
       " ('wine', 0.004350971228383281),\n",
       " ('restaurants', 0.004269987972935941),\n",
       " ('cheese', 0.0041382147757164384),\n",
       " ('chicken', 0.004049439964312035),\n",
       " ('cooking', 0.004023124709702984),\n",
       " ('meat', 0.003953737966793197),\n",
       " ('chef', 0.003702843404309341),\n",
       " ('sugar', 0.003649393983960691),\n",
       " ('recipe', 0.0036377795005135202),\n",
       " ('diet', 0.0035354003056667998),\n",
       " ('meal', 0.0031952524213298937),\n",
       " ('study', 0.0031373502826151133),\n",
       " ('dish', 0.0031235012205737805),\n",
       " ('bread', 0.0031047182564311196),\n",
       " ('ingredients', 0.0030610717172262244)]"
      ]
     },
     "execution_count": 26,
     "metadata": {},
     "output_type": "execute_result"
    }
   ],
   "source": [
    "# Topic: Food\n",
    "top_n_words[18][:20]"
   ]
  },
  {
   "cell_type": "code",
   "execution_count": 27,
   "metadata": {},
   "outputs": [
    {
     "data": {
      "text/plain": [
       "[('korea', 0.027219008436240453),\n",
       " ('north', 0.01806032782137588),\n",
       " ('nuclear', 0.01734268733070658),\n",
       " ('korean', 0.016323388174181348),\n",
       " ('missile', 0.01465137255646643),\n",
       " ('china', 0.013698253618882912),\n",
       " ('iran', 0.013625511914411224),\n",
       " ('kim', 0.012612909732646838),\n",
       " ('south', 0.009280001228424149),\n",
       " ('pyongyang', 0.00864100690938145),\n",
       " ('chinese', 0.007465840177691239),\n",
       " ('japan', 0.007448375426518177),\n",
       " ('missiles', 0.007311517968911036),\n",
       " ('sanctions', 0.006906185609654261),\n",
       " ('iranian', 0.006693787933248847),\n",
       " ('ballistic', 0.006689825430363567),\n",
       " ('beijing', 0.00624893063101314),\n",
       " ('weapons', 0.006056181906687214),\n",
       " ('jong', 0.005920810565032379),\n",
       " ('test', 0.005644123274946575)]"
      ]
     },
     "execution_count": 27,
     "metadata": {},
     "output_type": "execute_result"
    }
   ],
   "source": [
    "# Topic: Nuclear Weapons\n",
    "top_n_words[1][:20]"
   ]
  },
  {
   "cell_type": "code",
   "execution_count": 28,
   "metadata": {},
   "outputs": [
    {
     "data": {
      "text/plain": [
       "[('growth', 0.006636051981120915),\n",
       " ('economy', 0.005908252388277264),\n",
       " ('billion', 0.005649116732571176),\n",
       " ('investors', 0.005622859782083743),\n",
       " ('company', 0.005460535610989439),\n",
       " ('market', 0.005330839989010573),\n",
       " ('stock', 0.005244764739110531),\n",
       " ('percent', 0.005065427380079172),\n",
       " ('bank', 0.00476092525776131),\n",
       " ('rate', 0.004722718562310435),\n",
       " ('prices', 0.004470476775739222),\n",
       " ('jobs', 0.004314719077909466),\n",
       " ('economic', 0.004263520939092173),\n",
       " ('rates', 0.0038775022562580557),\n",
       " ('revenue', 0.0038422833441719485),\n",
       " ('debt', 0.003817622041001019),\n",
       " ('income', 0.003744543437095573),\n",
       " ('workers', 0.0036604654443248884),\n",
       " ('yahoo', 0.003636619272719044),\n",
       " ('labor', 0.003500778261622703)]"
      ]
     },
     "execution_count": 28,
     "metadata": {},
     "output_type": "execute_result"
    }
   ],
   "source": [
    "# Topic: Business/Finance\n",
    "top_n_words[22][:20]"
   ]
  },
  {
   "cell_type": "code",
   "execution_count": 29,
   "metadata": {},
   "outputs": [
    {
     "data": {
      "text/plain": [
       "[('album', 0.01879849164451082),\n",
       " ('music', 0.017453853804620317),\n",
       " ('songs', 0.01299022448517943),\n",
       " ('song', 0.012765116861737716),\n",
       " ('band', 0.012205969075445128),\n",
       " ('pop', 0.007063405702235141),\n",
       " ('rock', 0.006578098860573057),\n",
       " ('jazz', 0.006499427877404208),\n",
       " ('guitar', 0.006163806345151113),\n",
       " ('singer', 0.00544196509131561),\n",
       " ('albums', 0.005361481328821019),\n",
       " ('artists', 0.004879416072009808),\n",
       " ('sound', 0.004789420925873542),\n",
       " ('dylan', 0.0047061686269299075),\n",
       " ('musicians', 0.004222729904417108),\n",
       " ('musical', 0.003956627020304135),\n",
       " ('artist', 0.0039395585895861335),\n",
       " ('love', 0.0038087068950349743),\n",
       " ('lyrics', 0.003683264126818269),\n",
       " ('record', 0.0036477453725373126)]"
      ]
     },
     "execution_count": 29,
     "metadata": {},
     "output_type": "execute_result"
    }
   ],
   "source": [
    "# Topic: Music\n",
    "top_n_words[23][:20]"
   ]
  },
  {
   "cell_type": "code",
   "execution_count": 30,
   "metadata": {},
   "outputs": [
    {
     "data": {
      "text/plain": [
       "[('protesters', 0.014058302779472091),\n",
       " ('protest', 0.008501614152641366),\n",
       " ('protests', 0.008232024389689434),\n",
       " ('pipeline', 0.005241709377096553),\n",
       " ('campus', 0.004731169476124512),\n",
       " ('rally', 0.004693644220258506),\n",
       " ('milo', 0.004506561477678411),\n",
       " ('demonstrators', 0.00437713273821979),\n",
       " ('university', 0.00419061933777805),\n",
       " ('event', 0.0041522283046076984),\n",
       " ('speech', 0.004048115857861317),\n",
       " ('yiannopoulos', 0.004036722709189348),\n",
       " ('students', 0.0038526520038338957),\n",
       " ('crowd', 0.0037096252754391184),\n",
       " ('berkeley', 0.0033787635727523238),\n",
       " ('march', 0.0033774348557322423),\n",
       " ('protester', 0.0033582135771282884),\n",
       " ('dakota', 0.003261870131748198),\n",
       " ('activists', 0.0032459537723606483),\n",
       " ('maduro', 0.0031888292256637223)]"
      ]
     },
     "execution_count": 30,
     "metadata": {},
     "output_type": "execute_result"
    }
   ],
   "source": [
    "# Topic: Protests/Activism\n",
    "top_n_words[10][:20]"
   ]
  },
  {
   "cell_type": "code",
   "execution_count": 31,
   "metadata": {},
   "outputs": [
    {
     "data": {
      "text/plain": [
       "[('nfl', 0.020138117996611863),\n",
       " ('quarterback', 0.014379786338038941),\n",
       " ('giants', 0.013035756400767531),\n",
       " ('game', 0.012349152145040117),\n",
       " ('football', 0.01211204175151114),\n",
       " ('jets', 0.012029184950647002),\n",
       " ('bowl', 0.011441022692316774),\n",
       " ('yards', 0.010766496595595053),\n",
       " ('patriots', 0.010741913405222545),\n",
       " ('brady', 0.01048896692534785),\n",
       " ('season', 0.009868480550466574),\n",
       " ('kaepernick', 0.009608565591872726),\n",
       " ('redskins', 0.009138743780223708),\n",
       " ('super', 0.008871371934044277),\n",
       " ('touchdown', 0.008396089401243286),\n",
       " ('players', 0.008017527369014172),\n",
       " ('coach', 0.0076632220899440166),\n",
       " ('league', 0.007129670989110496),\n",
       " ('team', 0.006645608042182257),\n",
       " ('cowboys', 0.006517321867732634)]"
      ]
     },
     "execution_count": 31,
     "metadata": {},
     "output_type": "execute_result"
    }
   ],
   "source": [
    "# Topic: Football\n",
    "top_n_words[7][:20]"
   ]
  },
  {
   "cell_type": "code",
   "execution_count": 32,
   "metadata": {},
   "outputs": [
    {
     "data": {
      "text/plain": [
       "[('mets', 0.026659058098191534),\n",
       " ('yankees', 0.025774098385541313),\n",
       " ('baseball', 0.017173424889509275),\n",
       " ('cubs', 0.013129719967201208),\n",
       " ('game', 0.01285156221505906),\n",
       " ('season', 0.011513207316461195),\n",
       " ('innings', 0.011348557786077733),\n",
       " ('league', 0.009526587603258814),\n",
       " ('games', 0.009310743109865812),\n",
       " ('inning', 0.008781289239926961),\n",
       " ('sox', 0.007843491981280733),\n",
       " ('players', 0.007816305241312068),\n",
       " ('girardi', 0.007186747546689618),\n",
       " ('pitcher', 0.007077422522582826),\n",
       " ('cespedes', 0.006901485762588939),\n",
       " ('pitching', 0.006644652471310624),\n",
       " ('runs', 0.006632414169903167),\n",
       " ('field', 0.006510215126543998),\n",
       " ('collins', 0.006394399854070186),\n",
       " ('indians', 0.006279772801750004)]"
      ]
     },
     "execution_count": 32,
     "metadata": {},
     "output_type": "execute_result"
    }
   ],
   "source": [
    "# Topic: Baseball\n",
    "top_n_words[0][:20]"
   ]
  },
  {
   "cell_type": "code",
   "execution_count": 33,
   "metadata": {},
   "outputs": [
    {
     "data": {
      "text/plain": [
       "[('space', 0.026015935540637337),\n",
       " ('nasa', 0.024749990455419205),\n",
       " ('earth', 0.017233499345973655),\n",
       " ('planet', 0.015912152116866463),\n",
       " ('moon', 0.013068006819551819),\n",
       " ('mars', 0.011583512569111155),\n",
       " ('spacecraft', 0.011284703270438625),\n",
       " ('planets', 0.010648311946479841),\n",
       " ('asteroid', 0.00999958960132928),\n",
       " ('jupiter', 0.009939290004222901)]"
      ]
     },
     "execution_count": 33,
     "metadata": {},
     "output_type": "execute_result"
    }
   ],
   "source": [
    "# Topic: Space\n",
    "top_n_words[3][:10]"
   ]
  },
  {
   "cell_type": "code",
   "execution_count": 34,
   "metadata": {},
   "outputs": [
    {
     "data": {
      "text/plain": [
       "[('transgender', 0.02043579462778223),\n",
       " ('abortion', 0.016010811482855897),\n",
       " ('gender', 0.008664654016394149),\n",
       " ('bathroom', 0.008545028376069243),\n",
       " ('carolina', 0.007989627708147911),\n",
       " ('rights', 0.0071997156497190275),\n",
       " ('abortions', 0.0070528709107193326),\n",
       " ('law', 0.0068074411830421145),\n",
       " ('discrimination', 0.006649219977003667),\n",
       " ('gay', 0.006587727144930094),\n",
       " ('bathrooms', 0.006465479974703778),\n",
       " ('texas', 0.005757204892963957),\n",
       " ('identity', 0.005055158599785433),\n",
       " ('mccrory', 0.005030005309430124),\n",
       " ('supreme', 0.004997210444159732),\n",
       " ('laws', 0.004958394310753934),\n",
       " ('sex', 0.004954224949564731),\n",
       " ('charlotte', 0.004890566502662465),\n",
       " ('measure', 0.004881076851278223),\n",
       " ('court', 0.004796029284306037)]"
      ]
     },
     "execution_count": 34,
     "metadata": {},
     "output_type": "execute_result"
    }
   ],
   "source": [
    "# Topic: LGBTQ Discrimination\n",
    "top_n_words[11][:20]"
   ]
  },
  {
   "cell_type": "code",
   "execution_count": 35,
   "metadata": {},
   "outputs": [
    {
     "data": {
      "text/plain": [
       "[('facebook', 0.014166240952175516),\n",
       " ('users', 0.010211076709343875),\n",
       " ('hackers', 0.006908603072389315),\n",
       " ('fake', 0.006574988208135531),\n",
       " ('google', 0.006267631445509317),\n",
       " ('yahoo', 0.006060696322011271),\n",
       " ('twitter', 0.006042482654380612),\n",
       " ('software', 0.005815061100259022),\n",
       " ('online', 0.005757271283240362),\n",
       " ('social', 0.005530828971715181),\n",
       " ('internet', 0.00526049531686129),\n",
       " ('wikileaks', 0.005068343136983917),\n",
       " ('nsa', 0.00503346418457986),\n",
       " ('user', 0.004946738618661609),\n",
       " ('content', 0.0049414058410753),\n",
       " ('accounts', 0.004918228934127197),\n",
       " ('malware', 0.00486654194746112),\n",
       " ('computer', 0.004780667013153193),\n",
       " ('data', 0.004716786214344717),\n",
       " ('company', 0.004474245146506472)]"
      ]
     },
     "execution_count": 35,
     "metadata": {},
     "output_type": "execute_result"
    }
   ],
   "source": [
    "# Topic: Technology/Data Privacy\n",
    "top_n_words[17][:20]"
   ]
  },
  {
   "cell_type": "code",
   "execution_count": 37,
   "metadata": {},
   "outputs": [
    {
     "data": {
      "text/plain": [
       "[('square', 0.00864595559974465),\n",
       " ('building', 0.008094812085479823),\n",
       " ('feet', 0.005953751464696315),\n",
       " ('estate', 0.005892528800439508),\n",
       " ('property', 0.005788185508556997),\n",
       " ('st', 0.005413393496492721),\n",
       " ('listing', 0.005393816263446132),\n",
       " ('elliman', 0.0051479141290381785),\n",
       " ('space', 0.005091996901056203),\n",
       " ('floors', 0.0048626557187709234),\n",
       " ('million', 0.00466678122514034),\n",
       " ('room', 0.004472543040458599),\n",
       " ('art', 0.0044709534382585715),\n",
       " ('douglas', 0.004460204493986201),\n",
       " ('stone', 0.004440952004906557),\n",
       " ('development', 0.00424946475599467),\n",
       " ('apartments', 0.004246170173261243),\n",
       " ('hotel', 0.004180795066574813),\n",
       " ('snowden', 0.004111925785912734),\n",
       " ('buildings', 0.0040646288877649)]"
      ]
     },
     "execution_count": 37,
     "metadata": {},
     "output_type": "execute_result"
    }
   ],
   "source": [
    "# Topic: Real Estate\n",
    "top_n_words[21][:20]"
   ]
  },
  {
   "cell_type": "code",
   "execution_count": 38,
   "metadata": {},
   "outputs": [
    {
     "data": {
      "text/plain": [
       "[('knicks', 0.03235710898423927),\n",
       " ('nba', 0.021900820262046157),\n",
       " ('warriors', 0.01753487178431979),\n",
       " ('anthony', 0.015344966935628167),\n",
       " ('game', 0.014401798421940263),\n",
       " ('curry', 0.013638870872601572),\n",
       " ('basketball', 0.013326292268165443),\n",
       " ('jackson', 0.012584942211021395),\n",
       " ('hornacek', 0.01117024440581699),\n",
       " ('finals', 0.011136140851909511),\n",
       " ('coach', 0.011111611321255018),\n",
       " ('oakley', 0.011049457195942738),\n",
       " ('season', 0.01076008793532948),\n",
       " ('cavaliers', 0.010680600184453016),\n",
       " ('players', 0.00995035926315484),\n",
       " ('porzingis', 0.009582491013498255),\n",
       " ('games', 0.009410124883404328),\n",
       " ('player', 0.009241521353641785),\n",
       " ('durant', 0.00844240554580173),\n",
       " ('team', 0.008333570631391004)]"
      ]
     },
     "execution_count": 38,
     "metadata": {},
     "output_type": "execute_result"
    }
   ],
   "source": [
    "# Topic: Basketball\n",
    "top_n_words[9][:20]"
   ]
  },
  {
   "cell_type": "code",
   "execution_count": 39,
   "metadata": {},
   "outputs": [
    {
     "data": {
      "text/plain": [
       "[('olympic', 0.022325617474327417),\n",
       " ('rio', 0.018367040559613947),\n",
       " ('olympics', 0.017521630864854983),\n",
       " ('gold', 0.017293571830712423),\n",
       " ('medal', 0.014745202958031762),\n",
       " ('athletes', 0.013036276695533762),\n",
       " ('games', 0.011680276474126474),\n",
       " ('biles', 0.011087377325077972),\n",
       " ('phelps', 0.010475706851189795),\n",
       " ('medals', 0.009622859233033972),\n",
       " ('marathon', 0.008662012712735447),\n",
       " ('sport', 0.007671902940925632),\n",
       " ('ledecky', 0.00634351108062002),\n",
       " ('team', 0.006146278102644914),\n",
       " ('runners', 0.005988316645418607),\n",
       " ('bronze', 0.005979997274496948),\n",
       " ('athlete', 0.005834142761621629),\n",
       " ('brazil', 0.005685278795453122),\n",
       " ('swimming', 0.005583769353314517),\n",
       " ('silver', 0.005493281688375383)]"
      ]
     },
     "execution_count": 39,
     "metadata": {},
     "output_type": "execute_result"
    }
   ],
   "source": [
    "# Topic: Olympics\n",
    "top_n_words[8][:20]"
   ]
  },
  {
   "cell_type": "code",
   "execution_count": 40,
   "metadata": {},
   "outputs": [
    {
     "data": {
      "text/plain": [
       "[('german', 0.02437223909928142),\n",
       " ('germany', 0.024319102849234196),\n",
       " ('merkel', 0.015938470261145747),\n",
       " ('migrants', 0.015820012613654864),\n",
       " ('europe', 0.009775004011873922),\n",
       " ('turkey', 0.0097552288828352),\n",
       " ('asylum', 0.009227529110857115),\n",
       " ('berlin', 0.009213668757873375),\n",
       " ('cologne', 0.008456632944906279),\n",
       " ('refugees', 0.008207449027381129),\n",
       " ('chancellor', 0.007770659708724211),\n",
       " ('european', 0.007713452489706597),\n",
       " ('hitler', 0.007565182773224355),\n",
       " ('turkish', 0.007226894843575449),\n",
       " ('germans', 0.0062788664792096174),\n",
       " ('nazi', 0.006258872349802221),\n",
       " ('migrant', 0.0062189580023861435),\n",
       " ('seekers', 0.0060693282054315335),\n",
       " ('greece', 0.005927803247129128),\n",
       " ('angela', 0.005753137410103316)]"
      ]
     },
     "execution_count": 40,
     "metadata": {},
     "output_type": "execute_result"
    }
   ],
   "source": [
    "# Topic: Syrian Refugee Crisis/Nazism\n",
    "top_n_words[15][:20]"
   ]
  },
  {
   "cell_type": "code",
   "execution_count": 41,
   "metadata": {},
   "outputs": [
    {
     "data": {
      "text/plain": [
       "[('britain', 0.028951743578690927),\n",
       " ('european', 0.0258100011410332),\n",
       " ('brexit', 0.021340291261199466),\n",
       " ('eu', 0.01890195114671192),\n",
       " ('referendum', 0.018515617526990345),\n",
       " ('union', 0.017844339638359245),\n",
       " ('cameron', 0.01456529815982361),\n",
       " ('british', 0.014285674702445546),\n",
       " ('prime', 0.01025117023877701),\n",
       " ('minister', 0.010221140147149763),\n",
       " ('parliament', 0.009819922234742217),\n",
       " ('europe', 0.009789859225596139),\n",
       " ('london', 0.009626911203466322),\n",
       " ('leave', 0.009462853748769758),\n",
       " ('labour', 0.00933714066654504),\n",
       " ('bloc', 0.008643842202107031),\n",
       " ('uk', 0.00837461902680837),\n",
       " ('vote', 0.00796223406937211),\n",
       " ('corbyn', 0.007610671446631107),\n",
       " ('renzi', 0.007252512621507403)]"
      ]
     },
     "execution_count": 41,
     "metadata": {},
     "output_type": "execute_result"
    }
   ],
   "source": [
    "# Topic: Brexit\n",
    "top_n_words[6][:20]"
   ]
  },
  {
   "cell_type": "code",
   "execution_count": 42,
   "metadata": {},
   "outputs": [
    {
     "data": {
      "text/plain": [
       "[('mexico', 0.03059955640299522),\n",
       " ('border', 0.01862412318120548),\n",
       " ('mexican', 0.01721337867408364),\n",
       " ('wall', 0.016774934396365966),\n",
       " ('nieto', 0.011087530929581882),\n",
       " ('peña', 0.010698857249664295),\n",
       " ('immigration', 0.009168321768990531),\n",
       " ('mexicans', 0.008474960148537592),\n",
       " ('immigrants', 0.007616178129124548),\n",
       " ('ford', 0.006216764433657502),\n",
       " ('undocumented', 0.005927900281287244),\n",
       " ('carrier', 0.0057117268140657335),\n",
       " ('jobs', 0.005305819276993953),\n",
       " ('trade', 0.0049761019145163074),\n",
       " ('pay', 0.004737565413922158),\n",
       " ('build', 0.004711795584606984),\n",
       " ('deportation', 0.004472844203059941),\n",
       " ('illegal', 0.004389478576023907),\n",
       " ('billion', 0.004330893849491064),\n",
       " ('fence', 0.004136979778450286)]"
      ]
     },
     "execution_count": 42,
     "metadata": {},
     "output_type": "execute_result"
    }
   ],
   "source": [
    "# Topic: US Illegal Immigration\n",
    "top_n_words[14][:20]"
   ]
  },
  {
   "cell_type": "code",
   "execution_count": 43,
   "metadata": {},
   "outputs": [
    {
     "data": {
      "text/plain": [
       "[('cancer', 0.012645146946076751),\n",
       " ('doctors', 0.008306539253529071),\n",
       " ('breast', 0.008226066615655007),\n",
       " ('patients', 0.006708475062553747),\n",
       " ('baby', 0.006117619870787641),\n",
       " ('surgery', 0.005877016540303507),\n",
       " ('medical', 0.005764825691005281),\n",
       " ('hospital', 0.005630057312047036),\n",
       " ('pregnant', 0.005545714927307439),\n",
       " ('babies', 0.00521870673450034),\n",
       " ('alzheimer', 0.004892023184605794),\n",
       " ('disease', 0.004762797347597214),\n",
       " ('study', 0.0047061797084637065),\n",
       " ('treatment', 0.004652205552700832),\n",
       " ('pregnancy', 0.004641430051743872),\n",
       " ('mother', 0.004536745354690812),\n",
       " ('pain', 0.004277827716620816),\n",
       " ('patient', 0.004267896013043513),\n",
       " ('dr', 0.004233163927598724),\n",
       " ('transplant', 0.004076020794271157)]"
      ]
     },
     "execution_count": 43,
     "metadata": {},
     "output_type": "execute_result"
    }
   ],
   "source": [
    "# Topic: Medical Research\n",
    "top_n_words[19][:20]"
   ]
  },
  {
   "cell_type": "code",
   "execution_count": null,
   "metadata": {},
   "outputs": [],
   "source": [
    "# Topic: Epidemic/Pandemic\n",
    "top_n_words[20][:20]"
   ]
  },
  {
   "cell_type": "code",
   "execution_count": 44,
   "metadata": {},
   "outputs": [
    {
     "data": {
      "text/plain": [
       "[('castro', 0.07229707124657485),\n",
       " ('cuba', 0.06554525318034779),\n",
       " ('cuban', 0.04854054477030605),\n",
       " ('fidel', 0.031107432432962493),\n",
       " ('cubans', 0.023540043642910298),\n",
       " ('havana', 0.021815103401681708),\n",
       " ('raúl', 0.011136407073673327),\n",
       " ('island', 0.009088406236625391),\n",
       " ('raul', 0.008524929840985119),\n",
       " ('embargo', 0.008363809851514423),\n",
       " ('revolution', 0.008154322536392134),\n",
       " ('miami', 0.008043131418695637),\n",
       " ('communist', 0.007692273424965249),\n",
       " ('regime', 0.00748172675296675),\n",
       " ('relations', 0.0072346914502592775),\n",
       " ('dictator', 0.006833284759154618),\n",
       " ('flights', 0.005879624007255263),\n",
       " ('1959', 0.0055095006328545965),\n",
       " ('brother', 0.005473701334822119),\n",
       " ('diplomatic', 0.00509995762328857)]"
      ]
     },
     "execution_count": 44,
     "metadata": {},
     "output_type": "execute_result"
    }
   ],
   "source": [
    "# Topic: US-Cuba Relations\n",
    "top_n_words[2][:20]"
   ]
  },
  {
   "cell_type": "code",
   "execution_count": 46,
   "metadata": {},
   "outputs": [
    {
     "data": {
      "text/plain": [
       "[('black', 0.020331038901074003),\n",
       " ('dolezal', 0.010995819052697049),\n",
       " ('greenberg', 0.009172488804937488),\n",
       " ('racial', 0.008263846993473345),\n",
       " ('schools', 0.007959786482566851),\n",
       " ('segregation', 0.007090579752326872),\n",
       " ('students', 0.006992885824243938),\n",
       " ('housing', 0.006795364874367139),\n",
       " ('hbcus', 0.005849272123907965),\n",
       " ('education', 0.005766014777121784),\n",
       " ('school', 0.005756709504893904),\n",
       " ('blacks', 0.005716617307551476),\n",
       " ('naacp', 0.005641448944708765),\n",
       " ('african', 0.005494375632318073),\n",
       " ('teachers', 0.005059941281554132),\n",
       " ('civil', 0.0048593708804482985),\n",
       " ('segregated', 0.0045588762859184),\n",
       " ('color', 0.00432143816058499),\n",
       " ('marshall', 0.004288022468430359),\n",
       " ('race', 0.0042306802604935665)]"
      ]
     },
     "execution_count": 46,
     "metadata": {},
     "output_type": "execute_result"
    }
   ],
   "source": [
    "# Topic: Segregation/Racial Discrimination\n",
    "top_n_words[12][:20]"
   ]
  }
 ],
 "metadata": {
  "kernelspec": {
   "display_name": "Python 3",
   "language": "python",
   "name": "python3"
  },
  "language_info": {
   "codemirror_mode": {
    "name": "ipython",
    "version": 3
   },
   "file_extension": ".py",
   "mimetype": "text/x-python",
   "name": "python",
   "nbconvert_exporter": "python",
   "pygments_lexer": "ipython3",
   "version": "3.7.6"
  }
 },
 "nbformat": 4,
 "nbformat_minor": 4
}
